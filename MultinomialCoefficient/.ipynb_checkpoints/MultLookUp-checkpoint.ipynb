{
 "cells": [
  {
   "cell_type": "code",
   "execution_count": 162,
   "metadata": {},
   "outputs": [],
   "source": [
    "load('IP.sage')\n",
    "\n",
    "M={}\n",
    "max_M=0\n",
    "\n",
    "def search_M(vec_n, eta):\n",
    "    global M\n",
    "    local_coord=M[eta]\n",
    "    for i in vec_n:\n",
    "        local_coord=local_coord[i]\n",
    "    return local_coord\n",
    "\n",
    "def insert_M(vec_n, m, n, eta):\n",
    "    global M\n",
    "    local_coord=M[eta]\n",
    "    for i in range(eta-1):\n",
    "        if not vec_n[i] in local_coord:\n",
    "            local_coord[vec_n[i]]={}\n",
    "        local_coord=local_coord[vec_n[i]]\n",
    "    local_coord[vec_n[eta-1]]=m\n",
    "    return local_coord\n",
    "\n",
    "def MultLookUp(n, eta):\n",
    "    # create multinomial lookup table\n",
    "    global M, max_M\n",
    "    global IP\n",
    "    if n>max_M:\n",
    "        LookUp={}\n",
    "        \n",
    "        # initialize multinomial coefficient of 0,...,0 as 1\n",
    "        LTemp=LookUp\n",
    "        if not (eta in M):\n",
    "            for i in range(eta-1):\n",
    "                LTemp[0]={}\n",
    "                LTemp=LTemp[0]\n",
    "            LTemp[0]=1\n",
    "            M[eta]=LookUp\n",
    "        \n",
    "        # recursively find multinomial coefficients via Pascal's identity\n",
    "        for n_prime in range(1,n+1):\n",
    "            IntegerPartition(n_prime, eta)\n",
    "            for vec_n in IP[n_prime, eta]:\n",
    "                m=0\n",
    "                for i in range(eta):\n",
    "                    if vec_n[i]>0:\n",
    "                        vec_n[i]-=1\n",
    "                        m+=search_M(vec_n, eta)\n",
    "                        vec_n[i]+=1\n",
    "                insert_M(vec_n, m, n_prime, eta)\n",
    "                        \n",
    "        max_M=n\n",
    "        \n",
    "def mult_coeff(vec_n):\n",
    "    eta=len(vec_n)\n",
    "    MultLookUp(n, eta)\n",
    "    return search_M(vec_n, eta)\n",
    "\n",
    "def sum_of_dict(dic):\n",
    "    m=0\n",
    "    for key in dic:\n",
    "        if isinstance(dic[key], dict):\n",
    "            m+=sum_of_dict(dic[key])\n",
    "        else:\n",
    "            m+=dic[key]\n",
    "    return m\n",
    "\n",
    "def size_of_dict(dic):\n",
    "    m=0\n",
    "    for key in dic:\n",
    "        if isinstance(dic[key], dict):\n",
    "            m+=size_of_dict(dic[key])\n",
    "        else:\n",
    "            m+=1\n",
    "    return m"
   ]
  },
  {
   "cell_type": "code",
   "execution_count": 166,
   "metadata": {},
   "outputs": [
    {
     "name": "stdout",
     "output_type": "stream",
     "text": [
      "21\n",
      "15\n"
     ]
    }
   ],
   "source": [
    "n=2\n",
    "\n",
    "print(sum_of_dict(M[4]))\n",
    "print(size_of_dict(M[4]))"
   ]
  },
  {
   "cell_type": "code",
   "execution_count": 168,
   "metadata": {},
   "outputs": [
    {
     "data": {
      "text/plain": [
       "{0: {0: {0: {0: 1, 1: 1, 2: 1}, 1: {0: 1, 1: 2}, 2: {0: 1}},\n",
       "  1: {0: {0: 1, 1: 2}, 1: {0: 2}},\n",
       "  2: {0: {0: 1}}},\n",
       " 1: {0: {0: {0: 1, 1: 2}, 1: {0: 2}}, 1: {0: {0: 2}}},\n",
       " 2: {0: {0: {0: 1}}}}"
      ]
     },
     "execution_count": 168,
     "metadata": {},
     "output_type": "execute_result"
    }
   ],
   "source": [
    "M[4]"
   ]
  },
  {
   "cell_type": "code",
   "execution_count": 172,
   "metadata": {},
   "outputs": [
    {
     "data": {
      "text/plain": [
       "924"
      ]
     },
     "execution_count": 172,
     "metadata": {},
     "output_type": "execute_result"
    }
   ],
   "source": [
    "\n",
    "mult_coeff([6,6,0,0])"
   ]
  },
  {
   "cell_type": "code",
   "execution_count": 120,
   "metadata": {},
   "outputs": [
    {
     "data": {
      "text/plain": [
       "12082784"
      ]
     },
     "execution_count": 120,
     "metadata": {},
     "output_type": "execute_result"
    }
   ],
   "source": [
    "sum(len(IP[n,4]) for n in range(1,129))"
   ]
  }
 ],
 "metadata": {
  "kernelspec": {
   "display_name": "SageMath 9.3",
   "language": "sage",
   "name": "sagemath"
  },
  "language_info": {
   "codemirror_mode": {
    "name": "ipython",
    "version": 3
   },
   "file_extension": ".py",
   "mimetype": "text/x-python",
   "name": "python",
   "nbconvert_exporter": "python",
   "pygments_lexer": "ipython3",
   "version": "3.7.10"
  }
 },
 "nbformat": 4,
 "nbformat_minor": 4
}
