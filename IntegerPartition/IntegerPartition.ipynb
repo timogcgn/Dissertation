{
 "cells": [
  {
   "cell_type": "code",
   "execution_count": 1,
   "metadata": {},
   "outputs": [],
   "source": [
    "# we utilize lehmer's method in combination with the 'stars and bars'-theorem\n",
    "\n",
    "def lehmer_binary(X):\n",
    "    # returns the lexicographically next binary string\n",
    "    # find substring of X we actually want to permute\n",
    "    n=len(X)\n",
    "    \n",
    "    # set two pointers: last appearance of 0...\n",
    "    non_1=n\n",
    "    while X[non_1-1]!=1:\n",
    "        non_1-=1\n",
    "        if non_1==0:\n",
    "            print('Yee')\n",
    "            return False\n",
    "    \n",
    "    # ... and last element before 01-substring\n",
    "    non_01=non_1\n",
    "    while X[non_01-1]!=0:\n",
    "        non_01-=1\n",
    "        if non_01==0:\n",
    "            return False\n",
    "    \n",
    "    #Swap positions of yx-substring...\n",
    "    X[non_01-1],X[non_01]=X[non_01],X[non_01-1]\n",
    "    \n",
    "    # ... and append [x,...,x] substring at end of substring\n",
    "    X[non_01+1:n]=X[non_1:n]+X[non_01+1:non_1]\n",
    "    \n",
    "    return X\n",
    "\n",
    "def IntegerPartition(n,eta):\n",
    "    # returns all Integer Partitions of n\n",
    "    X=n*[0]+(eta-1)*[1]\n",
    "    while X!=False:\n",
    "        # take a stars-and-bars string and create an integer partition with it\n",
    "        n=eta*[0]\n",
    "        pointer=0\n",
    "        for i in X:\n",
    "            if i==0:\n",
    "                n[pointer]+=1\n",
    "            else:\n",
    "                pointer+=1\n",
    "        print(n)\n",
    "        X=lehmer_binary(X)"
   ]
  },
  {
   "cell_type": "code",
   "execution_count": 2,
   "metadata": {},
   "outputs": [],
   "source": [
    "IP={}\n",
    "\n",
    "def IntegerPartition_2(n, eta):\n",
    "    # Recursively find all integer partitions of n with eta summands...\n",
    "    global IP\n",
    "    if not((eta, n) in IP):\n",
    "        IP[eta,n]=[]\n",
    "        Recursive_IntegerPartition([], eta, n, eta, n)\n",
    "    return IP[eta,n]\n",
    "\n",
    "def Recursive_IntegerPartition(vec_n, eta, n, eta_true, n_true):\n",
    "    # ...  by finding all integer partitions of n-x with eta-1 summands, for all x from 0 to n\n",
    "    global IP\n",
    "    if eta==1:\n",
    "        IP[eta_true, n_true]+=[[n]+vec_n]\n",
    "    else:\n",
    "        for i in range(n,-1,-1):\n",
    "            Recursive_IntegerPartition([i]+vec_n, eta-1, n-i, eta_true, n_true)"
   ]
  },
  {
   "cell_type": "code",
   "execution_count": 4,
   "metadata": {},
   "outputs": [
    {
     "data": {
      "text/plain": [
       "[[0, 0, 0, 3],\n",
       " [0, 0, 1, 2],\n",
       " [0, 1, 0, 2],\n",
       " [1, 0, 0, 2],\n",
       " [0, 0, 2, 1],\n",
       " [0, 1, 1, 1],\n",
       " [1, 0, 1, 1],\n",
       " [0, 2, 0, 1],\n",
       " [1, 1, 0, 1],\n",
       " [2, 0, 0, 1],\n",
       " [0, 0, 3, 0],\n",
       " [0, 1, 2, 0],\n",
       " [1, 0, 2, 0],\n",
       " [0, 2, 1, 0],\n",
       " [1, 1, 1, 0],\n",
       " [2, 0, 1, 0],\n",
       " [0, 3, 0, 0],\n",
       " [1, 2, 0, 0],\n",
       " [2, 1, 0, 0],\n",
       " [3, 0, 0, 0]]"
      ]
     },
     "execution_count": 4,
     "metadata": {},
     "output_type": "execute_result"
    }
   ],
   "source": [
    "IntegerPartition_2(3,4)"
   ]
  }
 ],
 "metadata": {
  "kernelspec": {
   "display_name": "SageMath 9.3",
   "language": "sage",
   "name": "sagemath"
  },
  "language_info": {
   "codemirror_mode": {
    "name": "ipython",
    "version": 3
   },
   "file_extension": ".py",
   "mimetype": "text/x-python",
   "name": "python",
   "nbconvert_exporter": "python",
   "pygments_lexer": "ipython3",
   "version": "3.7.10"
  }
 },
 "nbformat": 4,
 "nbformat_minor": 4
}
